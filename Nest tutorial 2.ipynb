{
 "cells": [
  {
   "cell_type": "markdown",
   "id": "b0b9f242",
   "metadata": {},
   "source": [
    "# NEST Simulator tutorial:  Connecting neurons\n",
    "\n",
    "In this tutorial we will create more than one neuron and connect between them. We will see the different options available to tune our network. First we will create the basic configuration previously seen and later we will connect the neurons using excitatory, inhibitory weights and long and short delays."
   ]
  },
  {
   "cell_type": "markdown",
   "id": "6ca2f6b5",
   "metadata": {},
   "source": [
    "In first place, we initialize an standard nest simulator network creating two neurons, here called \"neuron1\" and \"neuron2\". The first will connect to the second what means an unidirectional connection."
   ]
  },
  {
   "cell_type": "code",
   "execution_count": null,
   "id": "a6b395fc",
   "metadata": {},
   "outputs": [],
   "source": [
    "import nest\n",
    "import matplotlib.pyplot as plt\n",
    "\n",
    "# Setting up the NEST simulator\n",
    "nest.ResetKernel()\n",
    "nest.SetKernelStatus({\"resolution\": 0.1, \"print_time\": False})\n",
    "\n",
    "# Creating two neurons\n",
    "neuron_params1 = {\"I_e\": 400.0, \"t_ref\": 2.0, \"V_reset\": -70.0, \"V_m\": -65.0, 'V_th': -56.0}\n",
    "neuron_params2 = {\"I_e\": 300.0, \"t_ref\": 2.0, \"V_reset\": -70.0, \"V_m\": -65.0, 'V_th': -56.0}\n",
    "neuron1 = nest.Create(\"iaf_psc_alpha\", params=neuron_params1)\n",
    "neuron2 = nest.Create(\"iaf_psc_alpha\", params=neuron_params2)\n"
   ]
  },
  {
   "cell_type": "markdown",
   "id": "0d54561e",
   "metadata": {},
   "source": [
    "In this example we will use a static synapse (whose parameters keep stable over time) presenting a weight of 100 pA and a delay of 1 ms."
   ]
  },
  {
   "cell_type": "code",
   "execution_count": null,
   "id": "31cc7575",
   "metadata": {},
   "outputs": [],
   "source": [
    "# Connecting the neurons with different connection methods\n",
    "synapse_params1 = {\"weight\": 100.0, \"delay\": 1.0, \"synapse_model\": \"static_synapse\"}\n",
    "nest.Connect(neuron1, neuron2, syn_spec=synapse_params1)"
   ]
  },
  {
   "cell_type": "markdown",
   "id": "8c052952",
   "metadata": {},
   "source": [
    "Finally, we connect recorder devices and simulate the network during only 100 ms. Then, we plot the raster plot indicating when the \"neuron1\" triggers a spike and plot the membrane potential (V_m) of the receiver \"neuron2\" to see how the neuron receive inputs and they are reflected in the simulation."
   ]
  },
  {
   "cell_type": "code",
   "execution_count": null,
   "id": "f32170db",
   "metadata": {},
   "outputs": [],
   "source": [
    "# Setting up recording devices\n",
    "multimeter = nest.Create(\"multimeter\", params={\"record_from\": [\"V_m\"]})\n",
    "spike_detector = nest.Create(\"spike_recorder\")\n",
    "\n",
    "nest.Connect(multimeter, neuron2)\n",
    "nest.Connect(neuron1, spike_detector)\n",
    "\n",
    "# Simulating the network\n",
    "simulation_time = 100.0\n",
    "nest.Simulate(simulation_time)\n",
    "\n",
    "# Plotting the raster plot of sender neuron1\n",
    "spike_events = nest.GetStatus(spike_detector, \"events\")[0]\n",
    "plt.figure(figsize=(10, 4))\n",
    "plt.scatter(spike_events[\"times\"], spike_events[\"senders\"])\n",
    "plt.xlabel(\"Time (ms)\")\n",
    "plt.ylabel(\"Neuron ID\")\n",
    "plt.title(\"Raster Plot of Neuron 1\")\n",
    "plt.show()\n",
    "\n",
    "# Plotting the membrane potential of receiver neuron2\n",
    "membrane_potential = nest.GetStatus(multimeter, \"events\")[0]\n",
    "plt.figure(figsize=(10, 4))\n",
    "plt.plot(membrane_potential[\"times\"], membrane_potential[\"V_m\"])\n",
    "plt.xlabel(\"Time (ms)\")\n",
    "plt.ylabel(\"Membrane Potential (mV)\")\n",
    "plt.title(\"Membrane Potential of Neuron 2\")\n",
    "plt.show()"
   ]
  },
  {
   "cell_type": "markdown",
   "id": "6550172f",
   "metadata": {},
   "source": [
    "## Exercise #1\n",
    "\n",
    "Its your turn to tune the network! Change the weight (pA) of the connection between the \"neuron1\" to \"neuron2\" in order to obtain the latter to fire one time during the 100 ms of the simulation. (You should see that the membrane potential of the \"neuron2\" suddenly declines to -70 mV, i.e. the reset value)."
   ]
  },
  {
   "cell_type": "code",
   "execution_count": null,
   "id": "654d75c4",
   "metadata": {},
   "outputs": [],
   "source": []
  },
  {
   "cell_type": "markdown",
   "id": "50551da1",
   "metadata": {},
   "source": [
    "## Exercise #2\n",
    "\n",
    "Now, create a basic spiking neural network containing three neurons (\"iaf_psc_alpha\") called: \"neuron_exc\", \"neuron_inh\", \"neuron_receiver\" using the following parameters {\"I_e\": -- , \"t_ref\": 2.0, \"V_reset\": -70.0, \"V_m\": -65.0, 'V_th': -56.0}. The external input current \"I_e\" parameter is 400 pA, 420 pA and 300 pA, respectively for the excitatory inhibitory and receiver neurons. Excitatory and inhibitory neurons are unidirectionally connected to the receiver neuron using a delay of 3 ms and weights 180 pA and -100 pA, respectively. Finally, create the appropiate recorder devices to plot the spike activity of the excitatory and inhibitory neurons and the membrane potential (V_m) of the receiver neuron."
   ]
  },
  {
   "cell_type": "code",
   "execution_count": null,
   "id": "0bf2effe",
   "metadata": {},
   "outputs": [],
   "source": []
  },
  {
   "cell_type": "markdown",
   "id": "15276b5f",
   "metadata": {},
   "source": [
    "### Hebbian learning using STDP connections (Spike Time Dependent Plasticity)\n",
    "\n",
    "In nature, connections between neuronal cells are not stable and it usually change based on the environmental stimulation. One of the most known plastic mechanisms are the hebbian STDP rules. It can be summarised as \"those firing together, are strength\". If one neuron's fire makes another neuron to fire, the connection between them will be potentiated. Here we can see and example:"
   ]
  },
  {
   "cell_type": "code",
   "execution_count": null,
   "id": "a5efc70e",
   "metadata": {},
   "outputs": [],
   "source": [
    "import nest\n",
    "import matplotlib.pyplot as plt\n",
    "\n",
    "# Setting up the NEST simulator\n",
    "nest.ResetKernel()\n",
    "nest.SetKernelStatus({\"resolution\": 0.1, \"print_time\": False})\n",
    "\n",
    "# Creating two neurons\n",
    "neuron_params1 = {\"I_e\": 380.0}\n",
    "neuron_params2 = {\"I_e\": 360.0}\n",
    "neuron1 = nest.Create(\"iaf_psc_alpha\", params=neuron_params1)\n",
    "neuron2 = nest.Create(\"iaf_psc_alpha\", params=neuron_params2)\n",
    "\n",
    "# Connecting the neurons with different connection methods\n",
    "wr = nest.Create('weight_recorder')\n",
    "nest.CopyModel(\"stdp_synapse\", \"stdp_synapse_rec\", {\"weight_recorder\": wr, \"weight\": 50.0})\n",
    "#synapse_params = {\"weight\": 140.0, \"delay\": 1.0, \"synapse_model\": \"stdp_synapse\", \"weight_recorder\": wr}\n",
    "nest.Connect(neuron1, neuron2, syn_spec=\"stdp_synapse_rec\")#syn_spec=synapse_params)\n",
    "\n",
    "# Setting up recording devices\n",
    "multimeter = nest.Create(\"multimeter\", params={\"record_from\": [\"V_m\"]})\n",
    "spike_detector = nest.Create(\"spike_recorder\")\n",
    "\n",
    "nest.Connect(neuron1, spike_detector)\n",
    "nest.Connect(multimeter, neuron2)\n",
    "\n",
    "# Simulating the network\n",
    "simulation_time = 500.0\n",
    "nest.Simulate(simulation_time)\n",
    "\n",
    "# Plotting the raster plot of sender neuron1\n",
    "spike_events = nest.GetStatus(spike_detector, \"events\")[0]\n",
    "plt.figure(figsize=(10, 4))\n",
    "plt.scatter(spike_events[\"times\"], spike_events[\"senders\"])\n",
    "plt.xlabel(\"Time (ms)\")\n",
    "plt.ylabel(\"Neuron ID\")\n",
    "plt.title(\"Raster Plot of Neuron 1\")\n",
    "plt.show()\n",
    "\n",
    "# Plotting the membrane potential of receiver neuron2\n",
    "membrane_potential = nest.GetStatus(multimeter, \"events\")[0]\n",
    "plt.figure(figsize=(10, 4))\n",
    "plt.plot(membrane_potential[\"times\"], membrane_potential[\"V_m\"])\n",
    "plt.xlabel(\"Time (ms)\")\n",
    "plt.ylabel(\"Membrane Potential (mV)\")\n",
    "plt.title(\"Membrane Potential of Neuron 2\")\n",
    "plt.show()\n",
    "\n",
    "# Getting and plotting the weight change\n",
    "weight_events = nest.GetStatus(wr, \"events\")[0]\n",
    "plt.figure(figsize=(10, 4))\n",
    "plt.plot(weight_events[\"times\"], weight_events[\"weights\"])\n",
    "plt.xlabel(\"Time (ms)\")\n",
    "plt.ylabel(\"Weight\")\n",
    "plt.title(\"Weight Change\")\n",
    "plt.show()"
   ]
  },
  {
   "cell_type": "markdown",
   "id": "5a76ba0f",
   "metadata": {},
   "source": [
    "## Exercise #3\n",
    "\n",
    "Do you think the plastic weight will keep rising always?\n",
    "- Yes, it will keep rising more and more until an infinite number\n",
    "- Not always, in some time the weight will converge in a point.\n",
    "- No, the weight can only increase during certain plastic time\n",
    "\n",
    "After you hypothesize the answer, try to find it by re-runin the code with a simulation during 20 seconds and check the final weight."
   ]
  },
  {
   "cell_type": "code",
   "execution_count": null,
   "id": "23aafd1a",
   "metadata": {},
   "outputs": [],
   "source": []
  }
 ],
 "metadata": {
  "kernelspec": {
   "display_name": "Python 3 (ipykernel)",
   "language": "python",
   "name": "python3"
  },
  "language_info": {
   "codemirror_mode": {
    "name": "ipython",
    "version": 3
   },
   "file_extension": ".py",
   "mimetype": "text/x-python",
   "name": "python",
   "nbconvert_exporter": "python",
   "pygments_lexer": "ipython3",
   "version": "3.10.6"
  }
 },
 "nbformat": 4,
 "nbformat_minor": 5
}
